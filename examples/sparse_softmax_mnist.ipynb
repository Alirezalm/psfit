{
 "cells": [
  {
   "cell_type": "code",
   "id": "initial_id",
   "metadata": {},
   "source": [
    "import os\n",
    "\n",
    "os.environ['backend'] = \"pytorch\"\n",
    "import psfit\n",
    "import matplotlib.pyplot as plt\n",
    "import numpy as np\n",
    "from sklearn.metrics import accuracy_score\n",
    "\n",
    "from psfit import Linear\n",
    "from psfit.data import DataLoader, MNIST, ImageNormalizer\n",
    "from psfit.module import SoftmaxLoss\n",
    "from psfit.optim import LocalTrainer, SGD, ProjectionSparsifier, L1, L2\n",
    "from psfit.optim.optimizer import Admm\n",
    "\n",
    "plt.rcParams['font.family'] = 'serif'\n",
    "plt.rcParams['text.usetex'] = True"
   ],
   "outputs": [],
   "execution_count": null
  },
  {
   "cell_type": "code",
   "id": "5997e7187109587f",
   "metadata": {
    "ExecuteTime": {
     "end_time": "2024-11-05T08:20:49.083108Z",
     "start_time": "2024-11-05T08:20:49.081271Z"
    }
   },
   "source": [
    "backend = psfit.get_backend()\n",
    "print(f\"Backend name: {backend.name}\")\n",
    "print(f\"Backend type: {backend}\")"
   ],
   "outputs": [
    {
     "name": "stdout",
     "output_type": "stream",
     "text": [
      "Backend name: PyTorch\n",
      "Backend type: backend(dev=cuda, api=pytorch)\n"
     ]
    }
   ],
   "execution_count": 2
  },
  {
   "cell_type": "code",
   "id": "736092bd6e35b9a9",
   "metadata": {
    "ExecuteTime": {
     "end_time": "2024-11-05T08:20:54.386688Z",
     "start_time": "2024-11-05T08:20:52.035950Z"
    }
   },
   "source": [
    "ds = MNIST(\"../data/mnist-data.npz\", cv = True, cv_size = 0.1, preprocessor = ImageNormalizer())\n",
    "loader = DataLoader(dataset = ds, batch_size = len(ds) // 2, shuffle = True, report = True)"
   ],
   "outputs": [
    {
     "name": "stdout",
     "output_type": "stream",
     "text": [
      "Loading batches to cuda\n",
      "\n",
      "Number of batches loaded: 2\n"
     ]
    }
   ],
   "execution_count": 3
  },
  {
   "cell_type": "code",
   "id": "bf5ea009fd3d6e4c",
   "metadata": {
    "ExecuteTime": {
     "end_time": "2024-11-05T08:20:59.225789Z",
     "start_time": "2024-11-05T08:20:59.223789Z"
    }
   },
   "source": [
    "print(\"dataset:\", ds)"
   ],
   "outputs": [
    {
     "name": "stdout",
     "output_type": "stream",
     "text": [
      "dataset: MNIST()\n"
     ]
    }
   ],
   "execution_count": 4
  },
  {
   "cell_type": "code",
   "id": "8261819181e5781e",
   "metadata": {
    "ExecuteTime": {
     "end_time": "2024-11-05T08:21:00.086244Z",
     "start_time": "2024-11-05T08:21:00.084273Z"
    }
   },
   "source": [
    "x_cv, y_cv = ds.cv_data\n",
    "x_tr, y_tr = ds.train_data"
   ],
   "outputs": [],
   "execution_count": 5
  },
  {
   "cell_type": "code",
   "id": "91510ca429d9575c",
   "metadata": {
    "ExecuteTime": {
     "end_time": "2024-11-05T08:21:00.858316Z",
     "start_time": "2024-11-05T08:21:00.850674Z"
    }
   },
   "source": [
    "n, c = ds.number_of_features, ds.number_of_classes\n",
    "model = Linear(in_features = n, out_features = c)"
   ],
   "outputs": [],
   "execution_count": 6
  },
  {
   "cell_type": "code",
   "id": "29de7136a77478e2",
   "metadata": {
    "ExecuteTime": {
     "end_time": "2024-11-05T08:21:02.175415Z",
     "start_time": "2024-11-05T08:21:02.173250Z"
    }
   },
   "source": [
    "trainer = LocalTrainer(\n",
    "    dataloader = loader,\n",
    "    loss = SoftmaxLoss(),\n",
    "    optimizer = SGD(model, learning_rate = 0.4),\n",
    "    verbose = False\n",
    ")\n",
    "\n",
    "\n",
    "def predict(x):\n",
    "    logits = x @ model.parameters.array().cpu().numpy()\n",
    "    predictions = np.argmax(logits, axis = 1, keepdims = True)\n",
    "    return predictions"
   ],
   "outputs": [],
   "execution_count": 7
  },
  {
   "cell_type": "code",
   "id": "ab3c323c4f455c36",
   "metadata": {
    "ExecuteTime": {
     "end_time": "2024-11-05T08:21:05.200416Z",
     "start_time": "2024-11-05T08:21:05.198501Z"
    }
   },
   "source": [
    "penalty = 1\n",
    "l0_reg = ProjectionSparsifier(density = 100)\n",
    "l1_reg = L1(admm_penalty = penalty, l1_penalty = 0.001)\n",
    "l2_reg = L2(admm_penalty = penalty, l2_penalty = 0.005)\n",
    "\n"
   ],
   "outputs": [],
   "execution_count": 8
  },
  {
   "cell_type": "code",
   "id": "ddb5ba916430b5d0",
   "metadata": {
    "ExecuteTime": {
     "end_time": "2024-11-05T08:24:37.815412Z",
     "start_time": "2024-11-05T08:21:09.594488Z"
    }
   },
   "source": [
    "\n",
    "regularizers = {\n",
    "    \"L0\": [l0_reg],\n",
    "    \"Lasso\": [l1_reg],\n",
    "    \"Ridge\": [l2_reg],\n",
    "    \"Elastic Net\": [l2_reg, l1_reg],\n",
    "}\n",
    "\n",
    "loss_values = {\n",
    "    \"L0\": [],\n",
    "    \"Lasso\": [],\n",
    "    \"Ridge\": [],\n",
    "    \"Elastic Net\": [],\n",
    "\n",
    "}\n",
    "\n",
    "primal_error_values = {\n",
    "    \"L0\": [],\n",
    "    \"Lasso\": [],\n",
    "    \"Ridge\": [],\n",
    "    \"Elastic Net\": [],\n",
    "}\n",
    "train_accuracy = {\n",
    "    \"L0\": [],\n",
    "    \"Lasso\": [],\n",
    "    \"Ridge\": [],\n",
    "    \"Elastic Net\": [],\n",
    "\n",
    "}\n",
    "validation_accuracy = {\n",
    "    \"L0\": [],\n",
    "    \"Lasso\": [],\n",
    "    \"Ridge\": [],\n",
    "    \"Elastic Net\": [],\n",
    "\n",
    "}\n",
    "weights = {\n",
    "    \"L0\": None,\n",
    "    \"Lasso\": None,\n",
    "    \"Ridge\": None,\n",
    "    \"Elastic Net\": None,\n",
    "}\n",
    "\n",
    "iters = 600\n",
    "epoch = 0\n",
    "\n",
    "for reg_name, aggregators in regularizers.items():\n",
    "    print(f\"Training with {reg_name}\")\n",
    "\n",
    "    model.init_params()\n",
    "\n",
    "    optimizer = Admm(trainer = trainer, aggregators = aggregators)\n",
    "\n",
    "    for epoch in range(iters):\n",
    "\n",
    "        loss, err = optimizer.step(penalty = penalty)\n",
    "        loss_values[reg_name].append(loss)\n",
    "\n",
    "        pred_training = predict(x_tr)\n",
    "        pred_validation = predict(x_cv)\n",
    "\n",
    "        train_acc = accuracy_score(y_tr, pred_training)\n",
    "        cv_acc = accuracy_score(y_cv, pred_validation)\n",
    "\n",
    "        train_accuracy[reg_name].append(train_acc)\n",
    "        validation_accuracy[reg_name].append(cv_acc)\n",
    "        primal_error_values[reg_name].append(err)\n",
    "\n",
    "        weights[reg_name] = model.parameters\n",
    "\n",
    "        if (epoch + 1) % 100 == 0:\n",
    "            print(\n",
    "                f\"Epoch {epoch + 1:3d}: Loss = {loss:.4f}, Error = {err:.6f}, Training = {train_acc:.6f}, Validation = {cv_acc:.6f}, Model: {reg_name}\")\n",
    "    print()"
   ],
   "outputs": [
    {
     "name": "stdout",
     "output_type": "stream",
     "text": [
      "Training with L0\n"
     ]
    },
    {
     "name": "stderr",
     "output_type": "stream",
     "text": [
      "/home/alirezaolama/projects/psfit/psfit/autodiff.py:325: UserWarning: The use of `x.T` on tensors of dimension other than 2 to reverse their shape is deprecated and it will throw an error in a future release. Consider `x.mT` to transpose batches of matrices or `x.permute(*torch.arange(x.ndim - 1, -1, -1))` to reverse the dimensions of a tensor. (Triggered internally at ../aten/src/ATen/native/TensorShape.cpp:3683.)\n",
      "  value = value.array().T\n"
     ]
    },
    {
     "name": "stdout",
     "output_type": "stream",
     "text": [
      "Epoch 100: Loss = 0.4610, Error = 0.000022, Training = 0.865852, Validation = 0.866333, Model: L0\n",
      "Epoch 200: Loss = 0.4231, Error = 0.000000, Training = 0.877833, Validation = 0.878500, Model: L0\n",
      "Epoch 300: Loss = 0.4016, Error = 0.000000, Training = 0.885519, Validation = 0.884000, Model: L0\n",
      "Epoch 400: Loss = 0.3881, Error = 0.000000, Training = 0.889333, Validation = 0.887000, Model: L0\n",
      "Epoch 500: Loss = 0.3779, Error = 0.000000, Training = 0.892481, Validation = 0.890833, Model: L0\n",
      "Epoch 600: Loss = 0.3700, Error = 0.000000, Training = 0.894722, Validation = 0.891500, Model: L0\n",
      "\n",
      "Training with Lasso\n",
      "Epoch 100: Loss = 0.4241, Error = 0.000001, Training = 0.889704, Validation = 0.888833, Model: Lasso\n",
      "Epoch 200: Loss = 0.4062, Error = 0.000000, Training = 0.894037, Validation = 0.892500, Model: Lasso\n",
      "Epoch 300: Loss = 0.3999, Error = 0.000000, Training = 0.895926, Validation = 0.894000, Model: Lasso\n",
      "Epoch 400: Loss = 0.3968, Error = 0.000000, Training = 0.896907, Validation = 0.894167, Model: Lasso\n",
      "Epoch 500: Loss = 0.3947, Error = 0.000000, Training = 0.897407, Validation = 0.895167, Model: Lasso\n",
      "Epoch 600: Loss = 0.3933, Error = 0.000000, Training = 0.897870, Validation = 0.894333, Model: Lasso\n",
      "\n",
      "Training with Ridge\n",
      "Epoch 100: Loss = 0.4181, Error = 0.000000, Training = 0.896111, Validation = 0.896667, Model: Ridge\n",
      "Epoch 200: Loss = 0.4093, Error = 0.000000, Training = 0.899407, Validation = 0.898833, Model: Ridge\n",
      "Epoch 300: Loss = 0.4080, Error = 0.000000, Training = 0.899981, Validation = 0.899000, Model: Ridge\n",
      "Epoch 400: Loss = 0.4077, Error = 0.000000, Training = 0.900037, Validation = 0.899000, Model: Ridge\n",
      "Epoch 500: Loss = 0.4077, Error = 0.000000, Training = 0.900074, Validation = 0.899000, Model: Ridge\n",
      "Epoch 600: Loss = 0.4076, Error = 0.000000, Training = 0.900074, Validation = 0.899167, Model: Ridge\n",
      "\n",
      "Training with Elastic Net\n",
      "Epoch 100: Loss = 0.4934, Error = 0.000000, Training = 0.884333, Validation = 0.884000, Model: Elastic Net\n",
      "Epoch 200: Loss = 0.4891, Error = 0.000000, Training = 0.885537, Validation = 0.884833, Model: Elastic Net\n",
      "Epoch 300: Loss = 0.4886, Error = 0.000000, Training = 0.885741, Validation = 0.885000, Model: Elastic Net\n",
      "Epoch 400: Loss = 0.4885, Error = 0.000000, Training = 0.885870, Validation = 0.885167, Model: Elastic Net\n",
      "Epoch 500: Loss = 0.4885, Error = 0.000000, Training = 0.885870, Validation = 0.885167, Model: Elastic Net\n",
      "Epoch 600: Loss = 0.4885, Error = 0.000000, Training = 0.885833, Validation = 0.885167, Model: Elastic Net\n",
      "\n"
     ]
    }
   ],
   "execution_count": 9
  },
  {
   "metadata": {
    "ExecuteTime": {
     "end_time": "2024-11-05T08:25:18.567621Z",
     "start_time": "2024-11-05T08:25:16.220916Z"
    }
   },
   "cell_type": "code",
   "source": [
    "fig, (ax1, ax2) = plt.subplots(1, 2, figsize = (8, 2.5))\n",
    "epochs = list(range(iters))\n",
    "\n",
    "colors = ['#d62728', '#9467bd', '#1f77b4', '#ff7f0e', '#2ca02c',\n",
    "          '#8c564b', '#e377c2', '#7f7f7f', '#bcbd22', '#17becf']\n",
    "\n",
    "markers = ['o', 'v', '^', '<', '>', 's', 'p', '*', 'h', 'D']\n",
    "\n",
    "i = 0\n",
    "for model_name, loss_value in loss_values.items():\n",
    "    ax1.plot(epochs, loss_value, linestyle = '-', color = colors[i], marker = markers[i], markersize = 4,\n",
    "             label = model_name, markevery = 20)\n",
    "    ax1.set_xlabel('Epochs', fontsize = 12)\n",
    "    ax1.set_ylabel('Loss', fontsize = 12)\n",
    "    ax1.grid(True, which = 'both', linestyle = '--', linewidth = 0.5)\n",
    "    ax1.legend()\n",
    "    i += 1\n",
    "\n",
    "i = 0\n",
    "for model_name, primal_error in primal_error_values.items():\n",
    "    ax2.plot(epochs, primal_error, linestyle = '-', color = colors[i], marker = markers[i], markersize = 4,\n",
    "             label = model_name, markevery = 20)\n",
    "    ax2.set_xlabel('Epochs', fontsize = 12)\n",
    "    ax2.set_ylabel('Error', fontsize = 12)\n",
    "    ax2.grid(True, which = 'both', linestyle = '--', linewidth = 0.5)\n",
    "    ax2.legend()\n",
    "    i += 1\n",
    "\n",
    "plt.xlabel('Epochs', fontsize = 12)  # X-axis label\n",
    "plt.ylabel('Loss', fontsize = 12)  # Y-axis label\n",
    "\n",
    "# Add a grid for better readability\n",
    "plt.grid(True)\n",
    "\n",
    "# Add a legend\n",
    "plt.legend()\n",
    "\n",
    "# Show the plot\n",
    "plt.tight_layout()"
   ],
   "id": "69610784b96ea640",
   "outputs": [
    {
     "data": {
      "text/plain": [
       "<Figure size 800x250 with 2 Axes>"
      ],
      "image/png": "[encoded data removed]"
     },
     "metadata": {},
     "output_type": "display_data"
    }
   ],
   "execution_count": 10
  },
  {
   "metadata": {
    "ExecuteTime": {
     "end_time": "2024-11-05T08:25:44.402296Z",
     "start_time": "2024-11-05T08:25:43.965865Z"
    }
   },
   "cell_type": "code",
   "source": [
    "fig, (ax1, ax2) = plt.subplots(1, 2, figsize = (8, 2.5))\n",
    "i = 0\n",
    "for model_name, train_acc in train_accuracy.items():\n",
    "    ax1.plot(epochs, train_acc, linestyle = '-', color = colors[i], marker = markers[i], markersize = 4,\n",
    "             label = model_name, markevery = 20)\n",
    "    ax1.set_xlabel('Epochs', fontsize = 12)\n",
    "    ax1.set_ylabel('Training Accuracy', fontsize = 12)\n",
    "    ax1.grid(True, which = 'both', linestyle = '--', linewidth = 0.5)\n",
    "    ax1.legend()\n",
    "    i += 1\n",
    "\n",
    "i = 0\n",
    "for model_name, validation_acc in validation_accuracy.items():\n",
    "    ax2.plot(epochs, validation_acc, linestyle = '-', color = colors[i], marker = markers[i], markersize = 4,\n",
    "             label = model_name, markevery = 20)\n",
    "    ax2.set_xlabel('Epochs', fontsize = 12)\n",
    "    ax2.set_ylabel('Validation Accuracy', fontsize = 12)\n",
    "    ax2.grid(True, which = 'both', linestyle = '--', linewidth = 0.5)\n",
    "    ax2.legend()\n",
    "    i += 1\n",
    "plt.tight_layout()\n",
    "plt.savefig(f\"../figures/training_validation_{ds.__class__.__name__.lower()}.pdf\",\n",
    "            dpi = 300)\n"
   ],
   "id": "28e1e1137b2c35e4",
   "outputs": [
    {
     "data": {
      "text/plain": [
       "<Figure size 800x250 with 2 Axes>"
      ],
      "image/png": "[encoded data removed]"
     },
     "metadata": {},
     "output_type": "display_data"
    }
   ],
   "execution_count": 11
  },
  {
   "cell_type": "code",
   "id": "7e4faa6d2174ba5d",
   "metadata": {
    "ExecuteTime": {
     "end_time": "2024-11-05T08:25:47.830172Z",
     "start_time": "2024-11-05T08:25:47.826421Z"
    }
   },
   "source": [
    "models = [key for key in weights.keys()]\n",
    "sparsity = [len(np.nonzero(weights[k].array()[:, 0])[0]) for k in weights.keys()]\n",
    "sparsity"
   ],
   "outputs": [
    {
     "data": {
      "text/plain": [
       "[1, 1, 1, 1]"
      ]
     },
     "execution_count": 12,
     "metadata": {},
     "output_type": "execute_result"
    }
   ],
   "execution_count": 12
  },
  {
   "cell_type": "code",
   "id": "8ee60c29bd3f6ff6",
   "metadata": {},
   "source": [
    "\n",
    "# Create the bar plot\n",
    "plt.figure(figsize = (6, 5))\n",
    "bars = plt.bar(models, sparsity, color = 'skyblue', edgecolor = 'black', width = 0.5, )\n",
    "\n",
    "plt.xlabel('Models', fontsize = 12)\n",
    "plt.ylabel('Non-zero Weights Count', fontsize = 12)\n",
    "\n",
    "# Add values on top of the bars\n",
    "for bar in bars:\n",
    "    height = bar.get_height()\n",
    "    plt.text(bar.get_x() + bar.get_width() / 2, height,\n",
    "             f'{height}', ha = 'center', va = 'bottom', fontsize = 10, fontweight = 'bold')\n",
    "\n",
    "# Customize ticks and layout for better presentation\n",
    "plt.xticks(rotation = 45, ha = 'right', fontsize = 12)\n",
    "plt.tight_layout()\n",
    "\n",
    "# Show the plot\n",
    "plt.show()"
   ],
   "outputs": [],
   "execution_count": null
  },
  {
   "cell_type": "code",
   "id": "999d9e9db6c54645",
   "metadata": {},
   "source": [
    "digit = 5\n",
    "size = (28, 28)\n",
    "w_l0 = weights['L0'].array()[:, digit]\n",
    "w_l1 = weights['Lasso'].array()[:, digit]\n",
    "w_l12 = weights['Elastic Net'].array()[:, digit]\n",
    "w_r = weights['Ridge'].array()[:, digit]"
   ],
   "outputs": [],
   "execution_count": null
  },
  {
   "cell_type": "code",
   "id": "3833151d5dd8196f",
   "metadata": {},
   "source": [
    "\n",
    "fig, ax = plt.subplots(2, 2, figsize = (7, 4))\n",
    "ax[0, 0].spy(w_r.reshape(size), aspect = 'auto', markersize = 1)\n",
    "ax[0, 0].set_title(\"Ridge\")\n",
    "ax[0, 0].axis('off')\n",
    "\n",
    "ax[0, 1].spy(w_l0.reshape(size), aspect = 'auto', markersize = 1)\n",
    "ax[0, 1].set_title(\"L0\")\n",
    "ax[0, 1].axis('off')\n",
    "\n",
    "ax[1, 0].spy(w_l1.reshape(size), aspect = 'auto', markersize = 1)\n",
    "ax[1, 0].set_title(\"Lasso\")\n",
    "ax[1, 0].axis('off')\n",
    "\n",
    "ax[1, 1].spy(w_l12.reshape(size), aspect = 'auto', markersize = 1)\n",
    "ax[1, 1].set_title(\"Elastic Net\")\n",
    "ax[1, 1].axis('off')\n",
    "plt.tight_layout()"
   ],
   "outputs": [],
   "execution_count": null
  },
  {
   "cell_type": "code",
   "id": "ad2a3a010512633f",
   "metadata": {},
   "source": [
    "fig, ax = plt.subplots(2, 2, figsize = (7, 4))\n",
    "\n",
    "ax[0, 0].imshow(w_r.reshape(size), aspect = 'auto', cmap = \"binary\")\n",
    "ax[0, 0].set_title(\"Ridge\")\n",
    "ax[0, 0].axis('off')\n",
    "\n",
    "ax[0, 1].imshow(w_l0.reshape(size), aspect = 'auto', cmap = \"binary\")\n",
    "ax[0, 1].set_title(\"L0\")\n",
    "ax[0, 1].axis('off')\n",
    "\n",
    "ax[1, 0].imshow(w_l1.reshape(size), aspect = 'auto', cmap = \"binary\")\n",
    "ax[1, 0].set_title(\"Lasso\")\n",
    "ax[1, 0].axis('off')\n",
    "\n",
    "ax[1, 1].imshow(w_l12.reshape(size), aspect = 'auto', cmap = \"binary\")\n",
    "ax[1, 1].set_title(\"Elastic Net\")\n",
    "ax[1, 1].axis('off')"
   ],
   "outputs": [],
   "execution_count": null
  },
  {
   "cell_type": "code",
   "id": "d00ba75d58d0cb68",
   "metadata": {},
   "source": [],
   "outputs": [],
   "execution_count": null
  }
 ],
 "metadata": {
  "kernelspec": {
   "display_name": "Python 3 (ipykernel)",
   "language": "python",
   "name": "python3"
  },
  "language_info": {
   "codemirror_mode": {
    "name": "ipython",
    "version": 3
   },
   "file_extension": ".py",
   "mimetype": "text/x-python",
   "name": "python",
   "nbconvert_exporter": "python",
   "pygments_lexer": "ipython3",
   "version": "3.11.0rc1"
  }
 },
 "nbformat": 4,
 "nbformat_minor": 5
}
