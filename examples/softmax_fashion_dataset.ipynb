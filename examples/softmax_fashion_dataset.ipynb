{
 "cells": [
  {
   "cell_type": "code",
   "id": "initial_id",
   "metadata": {
    "collapsed": true,
    "ExecuteTime": {
     "end_time": "2024-10-29T12:51:44.338753Z",
     "start_time": "2024-10-29T12:51:43.007473Z"
    }
   },
   "source": "import psfit as pf",
   "outputs": [],
   "execution_count": 2
  },
  {
   "metadata": {
    "ExecuteTime": {
     "end_time": "2024-10-29T12:54:44.535113Z",
     "start_time": "2024-10-29T12:54:44.533482Z"
    }
   },
   "cell_type": "code",
   "source": [
    "x = pf.tensor([1])\n",
    "\n",
    "f = 0.5 * x ** 3 + 2 * x + 1"
   ],
   "id": "19b57deb97db131b",
   "outputs": [],
   "execution_count": 18
  },
  {
   "metadata": {
    "ExecuteTime": {
     "end_time": "2024-10-29T12:54:46.460742Z",
     "start_time": "2024-10-29T12:54:46.458172Z"
    }
   },
   "cell_type": "code",
   "source": "f.backward()",
   "id": "f268c89f05e78b34",
   "outputs": [],
   "execution_count": 19
  },
  {
   "metadata": {
    "ExecuteTime": {
     "end_time": "2024-10-29T12:55:08.069704Z",
     "start_time": "2024-10-29T12:55:08.065389Z"
    }
   },
   "cell_type": "code",
   "source": "x.gradient",
   "id": "35a1667ac79fe8f4",
   "outputs": [
    {
     "data": {
      "text/plain": [
       "psfit.tensor([3.5], backend=numpy)"
      ]
     },
     "execution_count": 21,
     "metadata": {},
     "output_type": "execute_result"
    }
   ],
   "execution_count": 21
  },
  {
   "metadata": {
    "ExecuteTime": {
     "end_time": "2024-10-29T12:55:33.582094Z",
     "start_time": "2024-10-29T12:55:33.580003Z"
    }
   },
   "cell_type": "code",
   "source": "f.input_nodes",
   "id": "12f6a31624c6f14d",
   "outputs": [
    {
     "data": {
      "text/plain": [
       "[psfit.tensor([2.5], backend=numpy)]"
      ]
     },
     "execution_count": 23,
     "metadata": {},
     "output_type": "execute_result"
    }
   ],
   "execution_count": 23
  },
  {
   "metadata": {},
   "cell_type": "code",
   "outputs": [],
   "execution_count": null,
   "source": "",
   "id": "8f09dacf0dc021df"
  }
 ],
 "metadata": {
  "kernelspec": {
   "display_name": "Python 3",
   "language": "python",
   "name": "python3"
  },
  "language_info": {
   "codemirror_mode": {
    "name": "ipython",
    "version": 2
   },
   "file_extension": ".py",
   "mimetype": "text/x-python",
   "name": "python",
   "nbconvert_exporter": "python",
   "pygments_lexer": "ipython2",
   "version": "2.7.6"
  }
 },
 "nbformat": 4,
 "nbformat_minor": 5
}
